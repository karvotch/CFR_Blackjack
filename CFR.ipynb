{
 "cells": [
  {
   "cell_type": "code",
   "execution_count": 1,
   "metadata": {
    "scrolled": true
   },
   "outputs": [],
   "source": [
    "# %pylab inline\n",
    "%matplotlib inline\n",
    "import matplotlib.pyplot as plt\n",
    "%load_ext autoreload\n",
    "%autoreload 2\n",
    "import numpy as np\n",
    "import random\n",
    "np.set_printoptions(suppress=True)"
   ]
  },
  {
   "cell_type": "code",
   "execution_count": 2,
   "metadata": {},
   "outputs": [],
   "source": [
    "ROCK, PAPER, SCISSORS = 0, 1, 2\n",
    "NUM_ACTIONS = 3\n",
    "\n",
    "# oppStrategy = np.array([0.33, 0.33, 0.33])\n",
    "def value(p1, p2):\n",
    "    if p1==p2:\n",
    "        return 0\n",
    "    if (p1-1)%NUM_ACTIONS == p2:\n",
    "        return 1\n",
    "    else:\n",
    "        return -1"
   ]
  },
  {
   "cell_type": "code",
   "execution_count": 3,
   "metadata": {},
   "outputs": [],
   "source": [
    "def normalize(strategy):\n",
    "    strategy = np.copy(strategy)\n",
    "    normalizingSum = np.sum(strategy)\n",
    "    if normalizingSum > 0:\n",
    "        strategy /= normalizingSum\n",
    "    else:\n",
    "        strategy = np.ones(strategy.shape[0])/strategy.shape[0]\n",
    "    return strategy\n",
    "\n",
    "def getStrategy(regretSum):\n",
    "    return normalize(np.maximum(regretSum, 0))\n",
    "\n",
    "def getAction(strategy):\n",
    "    strategy = strategy / np.sum(strategy) # Normalize\n",
    "    return np.searchsorted(np.cumsum(strategy), random.random())"
   ]
  },
  {
   "cell_type": "code",
   "execution_count": 4,
   "metadata": {
    "scrolled": true
   },
   "outputs": [
    {
     "name": "stdout",
     "output_type": "stream",
     "text": [
      "  0 [0.09908261 0.73462397 0.16629342] [0.0002     0.00026667 0.99953333]\n",
      "  1 [0.54940797 0.36737865 0.08321338] [0.00013333 0.4999     0.49996667]\n",
      "  2 [0.36637568 0.24497836 0.38864596] [0.32980395 0.33674234 0.3334537 ]\n",
      "  3 [0.27801252 0.27926179 0.44272569] [0.4966788  0.25259009 0.25073111]\n",
      "  4 [0.22262335 0.42316943 0.35420722] [0.39766704 0.20209874 0.40023422]\n",
      "  5 [0.34890577 0.35513266 0.29596157] [0.33152687 0.31885706 0.34961607]\n",
      "  6 [0.43483456 0.30581843 0.25934701] [0.28419922 0.41610605 0.29969472]\n",
      "  7 [0.38051357 0.26765363 0.3518328 ] [0.37293038 0.36435918 0.26271044]\n",
      "  8 [0.3392509  0.34796254 0.31278656] [0.33232229 0.37718962 0.29048809]\n",
      "  9 [0.30603843 0.40389169 0.29006989] [0.2996088  0.34070839 0.35968281]\n",
      " 10 [0.27895311 0.36718638 0.3538605 ] [0.27935977 0.31205503 0.40858521]\n",
      " 11 [0.33677065 0.33678443 0.32644493] [0.25685232 0.36428627 0.37886141]\n",
      " 12 [0.31282508 0.31093605 0.37623887] [0.31267808 0.33631019 0.35101173]\n",
      " 13 [0.3288085  0.28911632 0.38207519] [0.36045249 0.31327377 0.32627375]\n",
      " 14 [0.3076573  0.33565897 0.35668373] [0.3484744  0.29310401 0.35842159]\n",
      " 15 [0.34122631 0.32383888 0.3349348 ] [0.34892849 0.30361805 0.34745345]\n",
      " 16 [0.37935408 0.30533474 0.31531119] [0.33332357 0.3396575  0.32701893]\n",
      " 17 [0.3584344  0.31613386 0.32543174] [0.32146219 0.36704173 0.31149607]\n",
      " 18 [0.34062239 0.31945624 0.33992137] [0.34026787 0.36270603 0.2970261 ]\n",
      " 19 [0.32368794 0.34791551 0.32839655] [0.32636646 0.34475713 0.32887641]\n",
      " 20 [0.31735797 0.35479491 0.32784711] [0.31254582 0.33124167 0.35621251]\n",
      " 21 [0.33800391 0.3398375  0.32215859] [0.30477018 0.34199314 0.35323669]\n",
      " 22 [0.32513229 0.32603937 0.34882834] [0.33360044 0.32846679 0.33793277]\n",
      " 23 [0.32547658 0.32034616 0.35417726] [0.36127681 0.31481122 0.32391196]\n",
      " 24 [0.35131112 0.30843643 0.34025245] [0.34822721 0.33741549 0.3143573 ]\n",
      " 25 [0.33839586 0.33200494 0.3295992 ] [0.3386382 0.3572595 0.3041023]\n",
      " 26 [0.32640865 0.34503461 0.32855674] [0.32727788 0.34837712 0.324345  ]\n",
      " 27 [0.31481861 0.3327183  0.35246309] [0.32721481 0.33600294 0.33678226]\n",
      " 28 [0.31783105 0.32231998 0.35984898] [0.33343114 0.32784109 0.33872777]\n",
      " 29 [0.32939449 0.32088743 0.34971808] [0.35231558 0.31983064 0.32785378]\n",
      " 30 [0.32037474 0.34097894 0.33864632] [0.35639033 0.31284827 0.33076141]\n",
      " 31 [0.33994974 0.33198248 0.32806779] [0.35480275 0.3146628  0.33053445]\n",
      " 32 [0.34381782 0.33762564 0.31855654] [0.3455122  0.32168439 0.33280342]\n",
      " 33 [0.35830444 0.33185434 0.30984122] [0.3355364  0.34139013 0.32307348]\n",
      " 34 [0.34961182 0.33405611 0.31633207] [0.32614488 0.35982184 0.31403328]\n",
      " 35 [0.33991334 0.3296378  0.33044886] [0.31877026 0.3758971  0.30533264]\n",
      " 36 [0.3314434  0.32081285 0.34774375] [0.336461   0.36645362 0.29708538]\n",
      " 37 [0.32272472 0.32949826 0.34777702] [0.3531131  0.3569854  0.28990149]\n",
      " 38 [0.31445742 0.34668121 0.33886137] [0.34871887 0.35176625 0.29951488]\n",
      " 39 [0.30747861 0.35753368 0.33498771] [0.34028921 0.34353971 0.31617107]\n",
      " 40 [0.30027767 0.35744837 0.34227395] [0.33222736 0.33650098 0.33127165]\n",
      " 41 [0.30112991 0.35161154 0.34725855] [0.32432512 0.32849064 0.34718423]\n",
      " 42 [0.29941905 0.34535425 0.35522669] [0.31699587 0.32088039 0.36212374]\n",
      " 43 [0.3069694  0.33752254 0.35550806] [0.3138921  0.31383476 0.37227314]\n",
      " 44 [0.32201935 0.33015706 0.34782359] [0.32878391 0.30686955 0.36434654]\n",
      " 45 [0.33664996 0.32305033 0.34029971] [0.32969153 0.30828304 0.36202542]\n",
      " 46 [0.35054    0.31639113 0.33306887] [0.32393373 0.32070688 0.35535938]\n",
      " 47 [0.36173417 0.31022281 0.32804302] [0.32845662 0.32336929 0.34817409]\n",
      " 48 [0.36969654 0.30411672 0.32618674] [0.32838519 0.33048782 0.34112699]\n",
      " 49 [0.37039342 0.30423691 0.32536967] [0.32182359 0.34385176 0.33432465]\n",
      " 50 [0.36313211 0.29829435 0.33857354] [0.33224323 0.3399862  0.32777057]\n",
      " 51 [0.360911   0.29954675 0.33954226] [0.33457233 0.3438977  0.32152997]\n",
      " 52 [0.35529615 0.29918658 0.34551727] [0.3455818  0.33885508 0.31556312]\n",
      " 53 [0.34875443 0.31210016 0.33914541] [0.35731028 0.33296522 0.3097245 ]\n",
      " 54 [0.3427248  0.32412948 0.33314572] [0.35652011 0.33367648 0.30980341]\n",
      " 55 [0.3369023  0.33463592 0.32846178] [0.35032113 0.34517854 0.30450033]\n",
      " 56 [0.33425203 0.34156558 0.32418239] [0.34556082 0.34468775 0.30975143]\n",
      " 57 [0.32850006 0.35085341 0.32064652] [0.33999987 0.34625161 0.31374852]\n",
      " 58 [0.3229334  0.35904412 0.31802248] [0.33427563 0.34338688 0.32233748]\n",
      " 59 [0.3183769  0.36248123 0.31914188] [0.32875476 0.33770177 0.33354347]\n"
     ]
    },
    {
     "data": {
      "text/plain": [
       "(array([0.3183769 , 0.36248123, 0.31914188]),\n",
       " array([0.32875476, 0.33770177, 0.33354347]))"
      ]
     },
     "execution_count": 4,
     "metadata": {},
     "output_type": "execute_result"
    }
   ],
   "source": [
    "def innertrain(regretSum, strategySum, oppStrategy):\n",
    "    # accum the current strategy based on regret\n",
    "    strategy = getStrategy(regretSum)\n",
    "    strategySum += strategy\n",
    "\n",
    "    # select my action and opponent action\n",
    "    myAction = getAction(strategy)\n",
    "    otherAction = getAction(oppStrategy)\n",
    "\n",
    "    # For rock paper scissors only? can use value()?\n",
    "    actionUtility = np.zeros(NUM_ACTIONS)\n",
    "    actionUtility[otherAction] = 0\n",
    "        # If rock (0) is chosen then the other two (1, 2) will get a regret value\n",
    "            # Positive regret value means that decision should've been chosen\n",
    "            # Negative regret value means the decision that would've been regretted\n",
    "        # So if otherAction is 0 (rock) then actionUtility[PAPER] would equal 1\n",
    "            # and actionUtility[SCISSORS] would equal -1\n",
    "    actionUtility[(otherAction + 1) % NUM_ACTIONS] = 1\n",
    "    actionUtility[(otherAction - 1) % NUM_ACTIONS] = -1\n",
    "\n",
    "    # acc\n",
    "    regretSum += actionUtility - actionUtility[myAction]\n",
    "    \n",
    "    return regretSum, strategySum\n",
    "\n",
    "def train(iterations):\n",
    "    regretSum = np.zeros(NUM_ACTIONS)\n",
    "    strategySum = np.zeros(NUM_ACTIONS)\n",
    "    oppStrategy = np.array([0.4, 0.3, 0.3])\n",
    "    \n",
    "    for i in range(iterations):\n",
    "        regretSum, strategySum = innertrain(regretSum, strategySum, oppStrategy)\n",
    "        \n",
    "    return strategySum\n",
    "\n",
    "def train2p(oiterations, iterations):\n",
    "    \n",
    "    strategySumP1 = np.zeros(NUM_ACTIONS)\n",
    "    strategySumP2 = np.zeros(NUM_ACTIONS)\n",
    "    \n",
    "    for j in range(oiterations):\n",
    "        oppStrategy = normalize(strategySumP2)\n",
    "        regretSumP1 = np.zeros(NUM_ACTIONS)\n",
    "        \n",
    "        for i in range(iterations):\n",
    "            regretSumP1, strategySumP1 = innertrain(regretSumP1, strategySumP1, oppStrategy)\n",
    "        \n",
    "        oppStrategy = normalize(strategySumP1)\n",
    "        regretSumP2 = np.zeros(NUM_ACTIONS)\n",
    "        \n",
    "        for i in range(iterations):\n",
    "            regretSumP2, strategySumP2 = innertrain(regretSumP2, strategySumP2, oppStrategy)\n",
    "        \n",
    "        print(\"%3d\" % j, normalize(strategySumP1), normalize(strategySumP2))\n",
    "        \n",
    "    return strategySumP1, strategySumP2\n",
    "\n",
    "s1, s2 = train2p(60, 5000)\n",
    "normalize(s1), normalize(s2)"
   ]
  },
  {
   "cell_type": "code",
   "execution_count": 5,
   "metadata": {},
   "outputs": [
    {
     "data": {
      "text/plain": [
       "(array([0.3183769 , 0.36248123, 0.31914188]),\n",
       " array([0.32875476, 0.33770177, 0.33354347]))"
      ]
     },
     "execution_count": 5,
     "metadata": {},
     "output_type": "execute_result"
    }
   ],
   "source": [
    "strategy, oppStrategy = normalize(s1), normalize(s2)\n",
    "strategy, oppStrategy"
   ]
  },
  {
   "cell_type": "code",
   "execution_count": 6,
   "metadata": {},
   "outputs": [
    {
     "data": {
      "text/plain": [
       "array([0.00033333, 0.98785476, 0.0118119 ])"
      ]
     },
     "execution_count": 6,
     "metadata": {},
     "output_type": "execute_result"
    }
   ],
   "source": [
    "strategySum = train(1000)\n",
    "# getAverageStrategy(strategySum)\n",
    "normalize(strategySum)"
   ]
  },
  {
   "cell_type": "code",
   "execution_count": 7,
   "metadata": {
    "scrolled": true
   },
   "outputs": [
    {
     "data": {
      "text/plain": [
       "([<matplotlib.lines.Line2D at 0x110cc39b0>], -0.205, 0.0)"
      ]
     },
     "execution_count": 7,
     "metadata": {},
     "output_type": "execute_result"
    },
    {
     "data": {
      "image/png": "[encoded data removed]",
      "text/plain": [
       "<Figure size 432x288 with 1 Axes>"
      ]
     },
     "metadata": {
      "needs_background": "light"
     },
     "output_type": "display_data"
    }
   ],
   "source": [
    "vvv = []\n",
    "for j in range(200):\n",
    "    vv = 0\n",
    "    for i in range(100):\n",
    "#         strategy = getStrategy()\n",
    "#         strategy = [0,1,0]\n",
    "        myAction = getAction(strategy)\n",
    "        otherAction = getAction(oppStrategy)\n",
    "        vv += value(myAction, otherAction)\n",
    "    vvv.append(vv)\n",
    "plt.plot(sorted(vvv)), np.mean(vvv), np.median(vvv)"
   ]
  },
  {
   "cell_type": "code",
   "execution_count": 8,
   "metadata": {
    "scrolled": true
   },
   "outputs": [
    {
     "data": {
      "image/png": "[encoded data removed]",
      "text/plain": [
       "<Figure size 432x288 with 1 Axes>"
      ]
     },
     "metadata": {
      "needs_background": "light"
     },
     "output_type": "display_data"
    }
   ],
   "source": [
    "# strategy = getAverageStrategy(strategySum)\n",
    "strategy = normalize(strategySum)\n",
    "for j in range(5):\n",
    "    a = [getAction(getStrategy(strategy)) for i in range(100)]\n",
    "    plt.plot(sorted(a))"
   ]
  }
 ],
 "metadata": {
  "kernelspec": {
   "display_name": "Python 3",
   "language": "python",
   "name": "python3"
  },
  "language_info": {
   "codemirror_mode": {
    "name": "ipython",
    "version": 3
   },
   "file_extension": ".py",
   "mimetype": "text/x-python",
   "name": "python",
   "nbconvert_exporter": "python",
   "pygments_lexer": "ipython3",
   "version": "3.7.2"
  }
 },
 "nbformat": 4,
 "nbformat_minor": 2
}
